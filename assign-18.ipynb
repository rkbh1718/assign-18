{
 "cells": [
  {
   "cell_type": "markdown",
   "id": "d5b44184",
   "metadata": {},
   "source": [
    "# 1. Create a zoo.py file first. Define the hours() function, which prints the string &#39;Open 9-5 daily&#39;.Then, use the interactive interpreter to import the zoo module and call its hours() function."
   ]
  },
  {
   "cell_type": "code",
   "execution_count": 1,
   "id": "d6f3d1e1",
   "metadata": {},
   "outputs": [],
   "source": [
    "import zoo"
   ]
  },
  {
   "cell_type": "code",
   "execution_count": 3,
   "id": "fee34acd",
   "metadata": {},
   "outputs": [
    {
     "data": {
      "text/plain": [
       "'Open 9-5 daily'"
      ]
     },
     "execution_count": 3,
     "metadata": {},
     "output_type": "execute_result"
    }
   ],
   "source": [
    "zoo.hours()"
   ]
  },
  {
   "cell_type": "markdown",
   "id": "de1cdbc0",
   "metadata": {},
   "source": [
    "# 2. In the interactive interpreter, import the zoo module as menagerie and call its hours() function."
   ]
  },
  {
   "cell_type": "code",
   "execution_count": 4,
   "id": "9245585e",
   "metadata": {},
   "outputs": [],
   "source": [
    "import zoo as mengerie"
   ]
  },
  {
   "cell_type": "code",
   "execution_count": 5,
   "id": "cd43c051",
   "metadata": {},
   "outputs": [
    {
     "data": {
      "text/plain": [
       "'Open 9-5 daily'"
      ]
     },
     "execution_count": 5,
     "metadata": {},
     "output_type": "execute_result"
    }
   ],
   "source": [
    "mengerie.hours()"
   ]
  },
  {
   "cell_type": "markdown",
   "id": "7cee899b",
   "metadata": {},
   "source": [
    "# 3. Using the interpreter, explicitly import and call the hours() function from zoo."
   ]
  },
  {
   "cell_type": "code",
   "execution_count": 6,
   "id": "83282274",
   "metadata": {},
   "outputs": [],
   "source": [
    "from zoo import *"
   ]
  },
  {
   "cell_type": "code",
   "execution_count": 7,
   "id": "f5889404",
   "metadata": {},
   "outputs": [
    {
     "data": {
      "text/plain": [
       "'Open 9-5 daily'"
      ]
     },
     "execution_count": 7,
     "metadata": {},
     "output_type": "execute_result"
    }
   ],
   "source": [
    "hours()"
   ]
  },
  {
   "cell_type": "markdown",
   "id": "d68a3773",
   "metadata": {},
   "source": [
    "# 4. Import the hours() function as info and call it."
   ]
  },
  {
   "cell_type": "code",
   "execution_count": 8,
   "id": "d9be2aa0",
   "metadata": {},
   "outputs": [],
   "source": [
    "from zoo import hours as info"
   ]
  },
  {
   "cell_type": "code",
   "execution_count": 10,
   "id": "dc3047bb",
   "metadata": {},
   "outputs": [
    {
     "data": {
      "text/plain": [
       "'Open 9-5 daily'"
      ]
     },
     "execution_count": 10,
     "metadata": {},
     "output_type": "execute_result"
    }
   ],
   "source": [
    "info()"
   ]
  },
  {
   "cell_type": "markdown",
   "id": "914dc7ee",
   "metadata": {},
   "source": [
    "# 5. Create a plain dictionary with the key-value pairs &#39;a&#39;: 1, &#39;b&#39;: 2, and &#39;c&#39;: 3, and print it out."
   ]
  },
  {
   "cell_type": "code",
   "execution_count": 11,
   "id": "8d8d783f",
   "metadata": {},
   "outputs": [],
   "source": [
    "d ={\"a\" : 1, \"b\" : 2 , \"c\" : 3}"
   ]
  },
  {
   "cell_type": "code",
   "execution_count": 12,
   "id": "8b460c24",
   "metadata": {},
   "outputs": [
    {
     "data": {
      "text/plain": [
       "{'a': 1, 'b': 2, 'c': 3}"
      ]
     },
     "execution_count": 12,
     "metadata": {},
     "output_type": "execute_result"
    }
   ],
   "source": [
    "d"
   ]
  },
  {
   "cell_type": "markdown",
   "id": "2ce07abc",
   "metadata": {},
   "source": [
    "# 6.Make an OrderedDict called fancy from the same pairs listed in 5 and print it. Did it print in the same order as plain?"
   ]
  },
  {
   "cell_type": "code",
   "execution_count": 13,
   "id": "3f43802c",
   "metadata": {},
   "outputs": [],
   "source": [
    "fancy = {\"b\" : 1, \"a\" : 2 , \"c\" : 3} # printing same"
   ]
  },
  {
   "cell_type": "code",
   "execution_count": 14,
   "id": "1eb6d9c6",
   "metadata": {},
   "outputs": [
    {
     "data": {
      "text/plain": [
       "{'b': 1, 'a': 2, 'c': 3}"
      ]
     },
     "execution_count": 14,
     "metadata": {},
     "output_type": "execute_result"
    }
   ],
   "source": [
    "fancy"
   ]
  },
  {
   "cell_type": "markdown",
   "id": "44ae2616",
   "metadata": {},
   "source": [
    "# 7. Make a default dictionary called dict_of_lists and pass it the argument list. Make the list dict_of_lists[&#39;a&#39;] and append the value &#39;something for a&#39; to it in one assignment. Print dict_of_lists[&#39;a&#39;]."
   ]
  },
  {
   "cell_type": "code",
   "execution_count": 16,
   "id": "99bb08aa",
   "metadata": {},
   "outputs": [
    {
     "name": "stdout",
     "output_type": "stream",
     "text": [
      "{'a': [20, 'Twenty']}\n"
     ]
    }
   ],
   "source": [
    "dict_of_lists = {}\n",
    "dict_of_lists[\"a\"] = [20]\n",
    "  \n",
    "if \"a\" in dict_of_lists:\n",
    "    dict_of_lists[\"a\"].append(\"Twenty\")\n",
    "    print(dict_of_lists)"
   ]
  },
  {
   "cell_type": "code",
   "execution_count": null,
   "id": "9aeda083",
   "metadata": {},
   "outputs": [],
   "source": []
  }
 ],
 "metadata": {
  "kernelspec": {
   "display_name": "Python 3",
   "language": "python",
   "name": "python3"
  },
  "language_info": {
   "codemirror_mode": {
    "name": "ipython",
    "version": 3
   },
   "file_extension": ".py",
   "mimetype": "text/x-python",
   "name": "python",
   "nbconvert_exporter": "python",
   "pygments_lexer": "ipython3",
   "version": "3.8.8"
  }
 },
 "nbformat": 4,
 "nbformat_minor": 5
}
